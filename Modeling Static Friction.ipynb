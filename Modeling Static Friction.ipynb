{
 "cells": [
  {
   "cell_type": "code",
   "execution_count": 3,
   "metadata": {
    "collapsed": true
   },
   "outputs": [],
   "source": [
    "%matplotlib inline"
   ]
  },
  {
   "cell_type": "markdown",
   "metadata": {},
   "source": [
    "# Modeling Static Friction"
   ]
  },
  {
   "cell_type": "markdown",
   "metadata": {},
   "source": [
    "### Introduction:"
   ]
  },
  {
   "cell_type": "markdown",
   "metadata": {},
   "source": [
    "From everyday experience, we know that it takes a certain amount of force to overcome friction and get an object sliding. The goal of this investigation is to model the dependence of this maximum static frictional force on the mass of the object in question."
   ]
  },
  {
   "cell_type": "markdown",
   "metadata": {},
   "source": [
    "### Procedure:"
   ]
  },
  {
   "cell_type": "markdown",
   "metadata": {},
   "source": [
    "We attached a spring scale to the side of a hollow box on a level surface. Adding additional masses, we measured the amount of force it took to get the box to begin to slide. "
   ]
  },
  {
   "cell_type": "markdown",
   "metadata": {},
   "source": [
    "<figure>\n",
    "    <img src=\"img/Friction Apparatus.png\" width=400px/>\n",
    "    <figcaption style=\"text-align:center; font-size: 12px\">Fig. 1 - Sketch of the apparatus</figcaption>\n",
    "</figure>"
   ]
  },
  {
   "cell_type": "markdown",
   "metadata": {},
   "source": [
    "<figure>\n",
    "    <img src=\"img/Apparatus Photo.jpg\" width=400px/>\n",
    "    <figcaption style=\"text-align:center; font-size: 12px;\">Fig. 2 - Photo of the apparatus</figcaption>\n",
    "</figure>"
   ]
  },
  {
   "cell_type": "markdown",
   "metadata": {
    "collapsed": true
   },
   "source": [
    "### Data and Analysis:"
   ]
  },
  {
   "cell_type": "markdown",
   "metadata": {},
   "source": [
    "Flat\n",
    "\n",
    "| $m_{added}$   | $F_{max}$     |   \n",
    "|------|-----|\n",
    "| 600  |3.6 |\n",
    "| 800  | 4  |\n",
    "| 1000 | 5.2|\n",
    "| 1200 | 6  |\n",
    "| 1400 | 7.2|\n",
    "| 1600 | 8  |"
   ]
  },
  {
   "cell_type": "markdown",
   "metadata": {},
   "source": [
    "Inclined at 27 degrees\n",
    "\n",
    "| $m_{added}$   | $F_{max}$     |  \n",
    "|------|-----|  \n",
    "| 600  | 4.8 |\n",
    "| 800  | 6.4 |\n",
    "| 1000 | 8   |\n",
    "| 1200 | 9.6 |\n",
    "| 1400 | 11.2|\n",
    "| 1600 | 12  |"
   ]
  },
  {
   "cell_type": "code",
   "execution_count": 12,
   "metadata": {
    "collapsed": false
   },
   "outputs": [
    {
     "data": {
      "image/png": "[encoded data removed]",
      "text/plain": [
       "<matplotlib.figure.Figure at 0x5ca7f28>"
      ]
     },
     "metadata": {},
     "output_type": "display_data"
    }
   ],
   "source": [
    "import matplotlib.pyplot as plt\n",
    "import numpy as np\n",
    "from scipy.optimize import curve_fit\n",
    "\n",
    "m = [600, 800, 1000, 1200, 1400, 1600]\n",
    "f = [4.8, 6.4, 8, 9.6, 11.2, 12]\n",
    "\n",
    "ma = [600, 800, 1000, 1200, 1400, 1600]\n",
    "fa = [3.6, 4, 5.2, 6, 7.2, 8]\n",
    "\n",
    "mm = np.linspace(0, 2000, 2000)\n",
    "nn = np.linspace(0, 2000, 2000)\n",
    "\n",
    "def lineara(x, a, b):\n",
    "    return a*x + b\n",
    "def linearb(x, c, d):\n",
    "    return c*x + d\n",
    "\n",
    "a, b = curve_fit(lineara, m, f)[0]\n",
    "c, d = curve_fit(linearb, ma, fa)[0]\n",
    "\n",
    "plt.xlim(550,1800)\n",
    "#plt.ylim(0,4.5)\n",
    "plt.title(\"Modeling Static Friction\")\n",
    "plt.xlabel(\"Mass Added (g)\")\n",
    "plt.ylabel(\"Max Frictional Force\")\n",
    "plt.plot(m, f, '.')\n",
    "plt.plot(ma, fa, '.')\n",
    "plt.plot(mm, lineara(mm, a, b), '--')\n",
    "plt.plot(nn, linearb(nn, c, d), '--')\n",
    "plt.show()"
   ]
  },
  {
   "cell_type": "markdown",
   "metadata": {},
   "source": [
    "###### What you did?"
   ]
  },
  {
   "cell_type": "markdown",
   "metadata": {},
   "source": [
    "Using the spring scales we measured the friction, in Newtons, of different masses on both a flat and inclined surface."
   ]
  },
  {
   "cell_type": "markdown",
   "metadata": {},
   "source": [
    "#### How you did it?"
   ]
  },
  {
   "cell_type": "markdown",
   "metadata": {},
   "source": [
    "At first we simply put different amount of masses into a wooden box, and measured the different frictional forces. We then stacked a couple of books together, to create an angle of 27 degrees. We then measured the frictional forces of the incline."
   ]
  },
  {
   "cell_type": "markdown",
   "metadata": {},
   "source": [
    "#### Why you did it?"
   ]
  },
  {
   "cell_type": "markdown",
   "metadata": {
    "collapsed": true
   },
   "source": [
    "To see the affect gravity has on frictional force."
   ]
  },
  {
   "cell_type": "markdown",
   "metadata": {},
   "source": [
    "#### What you learned?"
   ]
  },
  {
   "cell_type": "markdown",
   "metadata": {
    "collapsed": true
   },
   "source": [
    "There is a"
   ]
  },
  {
   "cell_type": "markdown",
   "metadata": {},
   "source": [
    "## Conclusion"
   ]
  },
  {
   "cell_type": "markdown",
   "metadata": {},
   "source": [
    "Based on the data we collected we are shown that as the mass increases the max frictional force also increases. Using the first scale the results seemed to be more precise. Once we switched scales the data results seemed to jump drastically. One way we could improve this is by using one scale to measure all masses and getting better accuracy."
   ]
  }
 ],
 "metadata": {
  "anaconda-cloud": {},
  "kernelspec": {
   "display_name": "Python 3",
   "language": "python",
   "name": "python3"
  },
  "language_info": {
   "codemirror_mode": {
    "name": "ipython",
    "version": 3
   },
   "file_extension": ".py",
   "mimetype": "text/x-python",
   "name": "python",
   "nbconvert_exporter": "python",
   "pygments_lexer": "ipython3",
   "version": "3.4.4"
  }
 },
 "nbformat": 4,
 "nbformat_minor": 1
}
